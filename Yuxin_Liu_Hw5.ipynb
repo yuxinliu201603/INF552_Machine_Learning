{
 "cells": [
  {
   "cell_type": "markdown",
   "metadata": {},
   "source": [
    "# INF552:Homework5 \n",
    "### 1. Multi-class and Multi-Label Classification Using Support Vector Machines\n",
    "##### &nbsp; (a) Download the Anuran Calls (MFCCs) Data Set from: https://archive.ics.uci.edu/ml/datasets/Anuran+Calls+%28MFCCs%29. Choose 70% of the data randomly as the training set."
   ]
  },
  {
   "cell_type": "code",
   "execution_count": 17,
   "metadata": {
    "scrolled": true
   },
   "outputs": [
    {
     "name": "stdout",
     "output_type": "stream",
     "text": [
      "(5036, 26)\n",
      "(2159, 26)\n"
     ]
    }
   ],
   "source": [
    "import numpy as np\n",
    "import pandas as pd\n",
    "import seaborn as sns\n",
    "import matplotlib.pyplot as plt\n",
    "from sklearn.model_selection import train_test_split\n",
    "\n",
    "#read csv \n",
    "data = pd.read_csv('Frogs_MFCCs.csv', sep = ',', header = 0)\n",
    "\n",
    "#shuffle and split data into train data and test data\n",
    "X_train, X_test = train_test_split(data,train_size=0.70, random_state=24)\n",
    "print(X_train.shape)\n",
    "print(X_test.shape)"
   ]
  },
  {
   "cell_type": "markdown",
   "metadata": {},
   "source": [
    "##### &nbsp; (b) Each instance has three labels: Families, Genus, and Species. Each of the labels has multiple classes. We wish to solve a multi-class and multi-label problem. One of the most important approaches to multi-class classification is to train a classifier for each label. We first try this approach:\n",
    "&nbsp; i. Research exact match and hamming score/ loss methods for evaluating multi- label classification and use them in evaluating the classifiers in this problem."
   ]
  },
  {
   "cell_type": "markdown",
   "metadata": {},
   "source": [
    "&nbsp; Exact match (also called Subset accuracy): is the most strict metric, indicating the percentage of samples that have all their labels classified correctly.\n",
    "\n",
    "&nbsp; Hamming loss: the fraction of the wrong labels to the total number of labels, i.e. {\\displaystyle {\\frac {1}{|N|\\cdot |L|}}\\sum _{i=1}^{|N|}\\sum _{j=1}^{|L|}\\operatorname {xor} (y_{i,j},z_{i,j})} {\\displaystyle {\\frac {1}{|N|\\cdot |L|}}\\sum _{i=1}^{|N|}\\sum _{j=1}^{|L|}\\operatorname {xor} (y_{i,j},z_{i,j})}, where {\\displaystyle y_{i,j}} y_{i,j} is the target and {\\displaystyle z_{i,j}} z_{{i,j}} is the prediction. This is a loss function, so the optimal value is zero."
   ]
  },
  {
   "cell_type": "markdown",
   "metadata": {},
   "source": [
    "&nbsp;ii. Train a SVM for each of the labels, using Gaussian kernels and one versus all classifiers. Determine the weight of the SVM penalty and the width of the Gaussian Kernel using 10 fold cross validation. You are welcome to try to solve the problem with both standardized 1 and raw attributes and report the results.\n"
   ]
  },
  {
   "cell_type": "code",
   "execution_count": 158,
   "metadata": {},
   "outputs": [
    {
     "name": "stdout",
     "output_type": "stream",
     "text": [
      "[[0.01, 1, 0.8703103288559518], [0.01, 2, 0.88837424733673], [0.01, 3, 0.8925428439092172], [0.1, 1, 0.9652616952292729], [0.1, 2, 0.9726725335803613], [0.1, 3, 0.968040759610931], [1, 1, 0.9856415006947661], [1, 2, 0.9898100972672533], [1, 3, 0.9902732746641963]]\n"
     ]
    }
   ],
   "source": [
    "from sklearn.svm import SVC\n",
    "from sklearn.model_selection import GridSearchCV\n",
    "from sklearn.metrics import confusion_matrix \n",
    "#define function to report exact match\n",
    "list_all = []\n",
    "\n",
    "def small_para(X_train,y_train,X_test, y_test):\n",
    "    c_list = [1e-2,1e-1,1]\n",
    "    gamma_list =[1,2,3]\n",
    "    for i in c_list:\n",
    "        for j in gamma_list:\n",
    "            list_a = []\n",
    "            svc = SVC(kernel='rbf',gamma = j, C = i)\n",
    "            svc.fit(X_train, y_train)\n",
    "            score = svc.score(X_test, y_test)\n",
    "            list_a.append(i)\n",
    "            list_a.append(j)\n",
    "            list_a.append(score)\n",
    "            list_all.append(list_a)\n",
    "    return list_all\n",
    "\n",
    "train_x_f = X_train_b2[list(range(1,23,1))]\n",
    "train_y_f = X_train_b2['Family']\n",
    "\n",
    "test_x_f = X_test_b2[list(range(1,23,1))]\n",
    "test_y_f = X_test_b2['Family']\n",
    "\n",
    "#build a SVM classifier and print para\n",
    "list_al = small_para(train_x_f,train_y_f,test_x_f,test_y_f)\n",
    "print(list_al)"
   ]
  },
  {
   "cell_type": "raw",
   "metadata": {},
   "source": [
    "From the result above, we can choose c = 1, gamma = 1 as the small parameters when accuracy is approximately equals to the threshold 0.98."
   ]
  },
  {
   "cell_type": "code",
   "execution_count": 160,
   "metadata": {},
   "outputs": [
    {
     "name": "stdout",
     "output_type": "stream",
     "text": [
      "[[1, 10, 0.9819360815192218], [1, 15, 0.9782306623436776], [10, 10, 0.983788791106994], [10, 15, 0.9791570171375636], [100, 10, 0.983788791106994], [100, 15, 0.9791570171375636]]\n"
     ]
    }
   ],
   "source": [
    "list_all_large = []\n",
    "def large_para(X_train,y_train,X_test, y_test):\n",
    "    c_list = [1,10,100]\n",
    "    gamma_list =[10,15]\n",
    "    for i in c_list:\n",
    "        for j in gamma_list:\n",
    "            list_a = []\n",
    "            svc = SVC(kernel='rbf',gamma = j, C = i)\n",
    "            svc.fit(X_train, y_train)\n",
    "            score = svc.score(X_test, y_test)\n",
    "            list_a.append(i)\n",
    "            list_a.append(j)\n",
    "            list_a.append(score)\n",
    "            list_all_large.append(list_a)\n",
    "    return list_all_large\n",
    "train_x_f = X_train_b2[list(range(1,23,1))]\n",
    "train_y_f = X_train_b2['Family']\n",
    "\n",
    "test_x_f = X_test_b2[list(range(1,23,1))]\n",
    "test_y_f = X_test_b2['Family']\n",
    "\n",
    "#build a SVM classifier and print para\n",
    "list_al_large = large_para(train_x_f,train_y_f,test_x_f,test_y_f)\n",
    "print(list_al_large)"
   ]
  },
  {
   "cell_type": "markdown",
   "metadata": {},
   "source": [
    "From the result above, we can choose c = 100, gamma = 10 as the large pair of parameters. So we decide to make the range of c and gamma as c:[1e-1,1,10,100], gamma:[1,3,5,7,9]"
   ]
  },
  {
   "cell_type": "code",
   "execution_count": 335,
   "metadata": {},
   "outputs": [],
   "source": [
    "from sklearn.svm import SVC\n",
    "from sklearn.model_selection import GridSearchCV\n",
    "from sklearn.metrics import confusion_matrix \n",
    "\n",
    "#define function to report exact match\n",
    "def best_para(X_train,y_train,X_test, y_test):\n",
    "    param_grid = {'C': [1e-1,1,10,100],\n",
    "              'gamma': [1,3,5,7,9] }\n",
    "    grid = GridSearchCV(SVC(kernel='rbf'), param_grid, cv=10, scoring = 'accuracy')\n",
    "    grid.fit(X_train, y_train)\n",
    "    print(\"The best parameters are %s with a score of %0.8f\"% (grid.best_params_, grid.best_score_))\n",
    "    score = grid.score(X_test, y_test)\n",
    "    print('The exact match score is %0.8f'%score)\n",
    "    pre_result = grid.predict(X_test)\n",
    "    y_scores=grid.decision_function(X_test)\n",
    "    \n",
    "    #confusion matrix\n",
    "    print(confusion_matrix(pre_result, y_test))\n",
    "    print('hamming loss is:')\n",
    "    print(hamming_loss(y_test, pre_result))\n",
    "    return y_scores, pre_result\n",
    "\n",
    "#drop recordID\n",
    "X_train_b2 = X_train.drop(columns=['RecordID'])\n",
    "X_test_b2 = X_test.drop(columns=['RecordID'])\n",
    "\n",
    "#rename the features\n",
    "column_list = []\n",
    "for i in range(1,23,1):\n",
    "    column_list.append(i)\n",
    "column_list.append('Family')\n",
    "column_list.append('Genus')\n",
    "column_list.append('Species')\n",
    "X_train_b2.columns = [column_list]\n",
    "X_test_b2.columns = [column_list]\n",
    "    \n"
   ]
  },
  {
   "cell_type": "code",
   "execution_count": 336,
   "metadata": {},
   "outputs": [
    {
     "name": "stdout",
     "output_type": "stream",
     "text": [
      "The best parameters are {'C': 10, 'gamma': 3} with a score of 0.99404289\n",
      "The exact match score is 0.99258916\n",
      "[[  16    0    0    0]\n",
      " [   0  159    0    0]\n",
      " [   1    0  610    8]\n",
      " [   4    0    3 1358]]\n",
      "hamming loss is:\n",
      "0.007410838351088467\n"
     ]
    }
   ],
   "source": [
    "from sklearn.metrics import roc_auc_score\n",
    "from sklearn.metrics import roc_curve, auc\n",
    "\n",
    "#raw attributes\n",
    "#SVM for Families\n",
    "train_x_f = X_train_b2[list(range(1,23,1))]\n",
    "train_y_f = X_train_b2['Family']\n",
    "\n",
    "test_x_f = X_test_b2[list(range(1,23,1))]\n",
    "test_y_f = X_test_b2['Family']\n",
    "\n",
    "#build a SVM classifier and print para\n",
    "y_scores_f, result = best_para(train_x_f,train_y_f,test_x_f,test_y_f)\n",
    "#predict test data and print the accuracy(exact match)\n",
    "\n"
   ]
  },
  {
   "cell_type": "code",
   "execution_count": 339,
   "metadata": {},
   "outputs": [],
   "source": [
    "test_y_f = X_test_b2['Family']\n",
    "test_y_f.replace('Bufonidae', 0, inplace = True)\n",
    "test_y_f.replace('Dendrobatidae', 1, inplace = True)\n",
    "test_y_f.replace('Hylidae', 2, inplace = True)\n",
    "test_y_f.replace('Leptodactylidae', 3, inplace = True)"
   ]
  },
  {
   "cell_type": "code",
   "execution_count": 340,
   "metadata": {},
   "outputs": [
    {
     "data": {
      "image/png": "[encoded data removed]",
      "text/plain": [
       "<matplotlib.figure.Figure at 0x1a183b0630>"
      ]
     },
     "metadata": {},
     "output_type": "display_data"
    }
   ],
   "source": [
    "from sklearn.preprocessing import label_binarize\n",
    "fp_rate= {}\n",
    "tp_rate= {}\n",
    "thresholds = {}\n",
    "R_Auc= {}\n",
    "y_bin = label_binarize(test_y_f, classes=[0, 1, 2, 3])\n",
    "n_classes = y_bin.shape[1]\n",
    "\n",
    "#calulate the fp rate and tp rate by roc_curve\n",
    "for i in range(n_classes):\n",
    "    fp_rate[i], tp_rate[i], _ = roc_curve(y_bin[:, i], y_scores_f[:, i])\n",
    "    #print(fp_rate[i])\n",
    "    #print(tp_rate[i])\n",
    "    R_Auc[i] = auc(fp_rate[i], tp_rate[i])\n",
    "#plot\n",
    "plt.figure()\n",
    "fp_rate1 = fp_rate[0]\n",
    "#print(fp_rate1)\n",
    "plt.plot(fp_rate[0],tp_rate[0],label='class 1(%0.2f)'%R_Auc[0])\n",
    "plt.plot(fp_rate[1],tp_rate[1],label='class 2(%0.2f)'%R_Auc[1])\n",
    "plt.plot(fp_rate[2],tp_rate[2],label='class 3(%0.2f)'%R_Auc[2])\n",
    "plt.plot(fp_rate[3],tp_rate[3],label='class 4(%0.2f)'%R_Auc[3])\n",
    "plt.plot([0, 1], [0, 1], 'k--')\n",
    "plt.xlim([0.0, 1.0])\n",
    "plt.ylim([0.0, 1.0])\n",
    "plt.xlabel('False Positive Rate')\n",
    "plt.ylabel('True Positive Rate')\n",
    "plt.legend(loc=\"lower right\")\n",
    "plt.show()"
   ]
  },
  {
   "cell_type": "code",
   "execution_count": 354,
   "metadata": {},
   "outputs": [
    {
     "name": "stdout",
     "output_type": "stream",
     "text": [
      "The best parameters are {'C': 10, 'gamma': 3} with a score of 0.99146148\n",
      "The exact match score is 0.98888374\n",
      "[[1285    0    3    3    1    0    1    1]\n",
      " [   0  159    0    0    0    0    0    0]\n",
      " [   3    0   80    0    0    0    0    1]\n",
      " [   1    0    0  451    1    3    1    2]\n",
      " [   0    0    0    0   75    0    3    0]\n",
      " [   0    0    0    0    0   26    0    0]\n",
      " [   0    0    0    0    0    0   16    0]\n",
      " [   0    0    0    0    0    0    0   43]]\n",
      "hamming loss is:\n",
      "0.0111162575266327\n"
     ]
    }
   ],
   "source": [
    "#SVM for Genus******************\n",
    "train_x_g = X_train_b2[list(range(1,23,1))]\n",
    "train_y_g = X_train_b2['Genus']\n",
    "\n",
    "test_x_g = X_test_b2[list(range(1,23,1))]\n",
    "test_y_g = X_test_b2['Genus']\n",
    "\n",
    "#build a SVM classifier and print para\n",
    "y_scores_g,result_g = best_para(train_x_g,train_y_g,test_x_g,test_y_g)\n",
    "#predict test data and print the accuracy(exact match)"
   ]
  },
  {
   "cell_type": "code",
   "execution_count": 355,
   "metadata": {},
   "outputs": [],
   "source": [
    "test_y_g = X_test_b2['Genus']\n",
    "test_y_g.replace('Adenomera', 0, inplace = True)\n",
    "test_y_g.replace('Ameerega', 1, inplace = True)\n",
    "test_y_g.replace('Dendropsophus', 2, inplace = True)\n",
    "test_y_g.replace('Hypsiboas', 3, inplace = True)\n",
    "test_y_g.replace('Leptodactylus',4, inplace = True)\n",
    "test_y_g.replace('Osteocephalus', 5, inplace = True)\n",
    "test_y_g.replace('Rhinella', 6, inplace = True)\n",
    "test_y_g.replace('Scinax', 7, inplace = True)"
   ]
  },
  {
   "cell_type": "code",
   "execution_count": 356,
   "metadata": {},
   "outputs": [
    {
     "data": {
      "image/png": "[encoded data removed]",
      "text/plain": [
       "<matplotlib.figure.Figure at 0x1a17c255f8>"
      ]
     },
     "metadata": {},
     "output_type": "display_data"
    }
   ],
   "source": [
    "fp_rate= {}\n",
    "tp_rate= {}\n",
    "thresholds = {}\n",
    "R_Auc= {}\n",
    "y_bin_g = label_binarize(test_y_g, classes=[0, 1, 2, 3,4,5,6,7])\n",
    "n_classes_g = y_bin_g.shape[1]\n",
    "\n",
    "#calulate the fp rate and tp rate by roc_curve\n",
    "for i in range(n_classes_g):\n",
    "    fp_rate[i], tp_rate[i], _ = roc_curve(y_bin_g[:, i], y_scores_g[:, i])\n",
    "    #print(fp_rate[i])\n",
    "    #print(tp_rate[i])\n",
    "    R_Auc[i] = auc(fp_rate[i], tp_rate[i])\n",
    "#plot\n",
    "plt.figure()\n",
    "fp_rate1 = fp_rate[0]\n",
    "#print(fp_rate1)\n",
    "plt.plot(fp_rate[0],tp_rate[0],label='class 1(%0.2f)'%R_Auc[0])\n",
    "plt.plot(fp_rate[1],tp_rate[1],label='class 2(%0.2f)'%R_Auc[1])\n",
    "plt.plot(fp_rate[2],tp_rate[2],label='class 3(%0.2f)'%R_Auc[2])\n",
    "plt.plot(fp_rate[3],tp_rate[3],label='class 4(%0.2f)'%R_Auc[3])\n",
    "plt.plot(fp_rate[4],tp_rate[4],label='class 5(%0.2f)'%R_Auc[4])\n",
    "plt.plot(fp_rate[5],tp_rate[5],label='class 6(%0.2f)'%R_Auc[5])\n",
    "plt.plot(fp_rate[6],tp_rate[6],label='class 7(%0.2f)'%R_Auc[6])\n",
    "plt.plot(fp_rate[7],tp_rate[7],label='class 8(%0.2f)'%R_Auc[7])\n",
    "plt.plot([0, 1], [0, 1], 'k--')\n",
    "plt.xlim([0.0, 1.0])\n",
    "plt.ylim([0.0, 1.0])\n",
    "plt.xlabel('False Positive Rate')\n",
    "plt.ylabel('True Positive Rate')\n",
    "plt.legend(loc=\"lower right\")\n",
    "plt.show()\n"
   ]
  },
  {
   "cell_type": "code",
   "execution_count": 357,
   "metadata": {},
   "outputs": [
    {
     "name": "stdout",
     "output_type": "stream",
     "text": [
      "The best parameters are {'C': 10, 'gamma': 3} with a score of 0.99066720\n",
      "The exact match score is 0.98934692\n",
      "[[ 205    0    0    0    1    0    0    0    0    1]\n",
      " [   0 1080    0    2    0    1    0    0    0    0]\n",
      " [   0    0  159    0    0    0    0    0    0    0]\n",
      " [   0    3    0   80    0    0    1    0    0    1]\n",
      " [   0    0    0    0  134    1    1    3    1    0]\n",
      " [   0    1    0    1    1  316    0    0    1    0]\n",
      " [   0    0    0    0    0    0   75    0    3    0]\n",
      " [   0    0    0    0    0    0    0   26    0    0]\n",
      " [   0    0    0    0    0    0    0    0   16    0]\n",
      " [   0    0    0    0    0    0    0    0    0   45]]\n",
      "hamming loss is:\n",
      "0.010653080129689671\n"
     ]
    }
   ],
   "source": [
    "#SVM for Species***********\n",
    "train_x_s = X_train_b2[list(range(1,23,1))]\n",
    "train_y_s = X_train_b2['Species']\n",
    "\n",
    "test_x_s = X_test_b2[list(range(1,23,1))]\n",
    "test_y_s = X_test_b2['Species']\n",
    "\n",
    "#build a SVM classifier and print para\n",
    "y_scores_s, result_s = best_para(train_x_s,train_y_s,test_x_s,test_y_s)\n",
    "#predict test data and print the accuracy(exact match)"
   ]
  },
  {
   "cell_type": "code",
   "execution_count": 358,
   "metadata": {},
   "outputs": [],
   "source": [
    "test_y_s = X_test_b2['Species']\n",
    "test_y_s.replace('AdenomeraAndre', 0, inplace = True)\n",
    "test_y_s.replace('AdenomeraHylaedactylus', 1, inplace = True)\n",
    "test_y_s.replace('Ameeregatrivittata', 2, inplace = True)\n",
    "test_y_s.replace('HylaMinuta', 3, inplace = True)\n",
    "test_y_s.replace('HypsiboasCinerascens',4, inplace = True)\n",
    "test_y_s.replace('HypsiboasCordobae', 5, inplace = True)\n",
    "test_y_s.replace('LeptodactylusFuscus', 6, inplace = True)\n",
    "test_y_s.replace('OsteocephalusOophagus', 7, inplace = True)\n",
    "test_y_s.replace('Rhinellagranulosa', 8, inplace = True)\n",
    "test_y_s.replace('ScinaxRuber', 9, inplace = True)"
   ]
  },
  {
   "cell_type": "code",
   "execution_count": 359,
   "metadata": {},
   "outputs": [
    {
     "data": {
      "image/png": "[encoded data removed]",
      "text/plain": [
       "<matplotlib.figure.Figure at 0x1a0c4c8668>"
      ]
     },
     "metadata": {},
     "output_type": "display_data"
    }
   ],
   "source": [
    "fp_rate= {}\n",
    "tp_rate= {}\n",
    "R_Auc= {}\n",
    "y_bin_s = label_binarize(test_y_s, classes=[0, 1, 2, 3, 4, 5, 6, 7, 8, 9])\n",
    "n_classes_s = y_bin_s.shape[1]\n",
    "\n",
    "#calulate the fp rate and tp rate by roc_curve\n",
    "for i in range(n_classes_s):\n",
    "    fp_rate[i], tp_rate[i], _ = roc_curve(y_bin_s[:, i], y_scores_s[:, i])\n",
    "    #print(fp_rate[i])\n",
    "    #print(tp_rate[i])\n",
    "    R_Auc[i] = auc(fp_rate[i], tp_rate[i])\n",
    "#plot\n",
    "plt.figure()\n",
    "fp_rate1 = fp_rate[0]\n",
    "#print(fp_rate1)\n",
    "plt.plot(fp_rate[0],tp_rate[0],label='class 1(%0.2f)'%R_Auc[0])\n",
    "plt.plot(fp_rate[1],tp_rate[1],label='class 2(%0.2f)'%R_Auc[1])\n",
    "plt.plot(fp_rate[2],tp_rate[2],label='class 3(%0.2f)'%R_Auc[2])\n",
    "plt.plot(fp_rate[3],tp_rate[3],label='class 4(%0.2f)'%R_Auc[3])\n",
    "plt.plot(fp_rate[4],tp_rate[4],label='class 5(%0.2f)'%R_Auc[4])\n",
    "plt.plot(fp_rate[5],tp_rate[5],label='class 6(%0.2f)'%R_Auc[5])\n",
    "plt.plot(fp_rate[6],tp_rate[6],label='class 7(%0.2f)'%R_Auc[6])\n",
    "plt.plot(fp_rate[7],tp_rate[7],label='class 8(%0.2f)'%R_Auc[7])\n",
    "plt.plot(fp_rate[8],tp_rate[8],label='class 9(%0.2f)'%R_Auc[8])\n",
    "plt.plot(fp_rate[9],tp_rate[9],label='class 10(%0.2f)'%R_Auc[9])\n",
    "plt.plot([0, 1], [0, 1], 'k--')\n",
    "plt.xlim([0.0, 1.0])\n",
    "plt.ylim([0.0, 1.0])\n",
    "plt.xlabel('False Positive Rate')\n",
    "plt.ylabel('True Positive Rate')\n",
    "plt.legend(loc=\"lower right\")\n",
    "plt.show()"
   ]
  },
  {
   "cell_type": "code",
   "execution_count": 432,
   "metadata": {},
   "outputs": [
    {
     "name": "stdout",
     "output_type": "stream",
     "text": [
      "The sum hamming loss is:\n",
      "0.009726725335803613\n"
     ]
    }
   ],
   "source": [
    "###all hamming loss\n",
    "test_y_f = X_test_b2['Family'] \n",
    "test_y_g = X_test_b2['Genus']\n",
    "test_y_s = X_test_b2['Species']\n",
    "tru_label = []\n",
    "pre_label = []\n",
    "test_y_f_list = test_y_f['Family'].values.tolist()\n",
    "test_y_g_list = test_y_g['Genus'].values.tolist()\n",
    "test_y_s_list = test_y_s['Species'].values.tolist()\n",
    "for i in range(len(test_y_f)):\n",
    "    #print(i)\n",
    "    arr_list_tru = []\n",
    "    arr_list_pre = []\n",
    "    arr_list_tru.append(test_y_f_list[i][0])\n",
    "    #print(test_y_f_list[i][0])\n",
    "    arr_list_tru.append(test_y_g_list[i][0])\n",
    "    arr_list_tru.append(test_y_s_list[i][0])\n",
    "    arr_list_pre.append(result[i])\n",
    "    arr_list_pre.append(result_g[i])\n",
    "    arr_list_pre.append(result_s[i])\n",
    "    tru_label.append(arr_list_tru)\n",
    "    pre_label.append(arr_list_pre)\n",
    "score_list_d2 = []\n",
    "for i in range(len(test_y_f)):\n",
    "    score_d2 = hamming_loss(np.array(tru_label[i]), np.array(pre_label[i]))\n",
    "    score_list_d2.append(score_d2)\n",
    "\n",
    "print('The sum hamming loss is:')\n",
    "print(np.mean(score_list_d2))"
   ]
  },
  {
   "cell_type": "code",
   "execution_count": 384,
   "metadata": {},
   "outputs": [],
   "source": [
    "list_all_st = []\n",
    "\n",
    "def small_para_st(X_train,y_train,X_test, y_test):\n",
    "    c_list = [1e-1,1,10]\n",
    "    gamma_list =[0.005,0.01]\n",
    "    for i in c_list:\n",
    "        for j in gamma_list:\n",
    "            list_a = []\n",
    "            svc = SVC(kernel='rbf',gamma = j, C = i)\n",
    "            svc.fit(X_train, y_train)\n",
    "            score = svc.score(X_test, y_test)\n",
    "            list_a.append(i)\n",
    "            list_a.append(j)\n",
    "            list_a.append(score)\n",
    "            list_all_st.append(list_a)\n",
    "    return list_all_st"
   ]
  },
  {
   "cell_type": "code",
   "execution_count": 385,
   "metadata": {
    "scrolled": true
   },
   "outputs": [
    {
     "name": "stdout",
     "output_type": "stream",
     "text": [
      "[[0.1, 0.005, 0.9407132931912923], [0.1, 0.01, 0.951366373320982], [1, 0.005, 0.9624826308476147], [1, 0.01, 0.9726725335803613], [10, 0.005, 0.983788791106994], [10, 0.01, 0.9865678554886521]]\n"
     ]
    }
   ],
   "source": [
    "#******standardize********\n",
    "from sklearn.preprocessing import StandardScaler\n",
    "train_x_stan = X_train_b2[list(range(1,23,1))]\n",
    "test_x_stan = X_test_b2[list(range(1,23,1))]\n",
    "scaler = StandardScaler()\n",
    "stand_train_x = scaler.fit_transform(train_x_stan)\n",
    "stand_test_x = scaler.fit_transform(test_x_stan)\n",
    "\n",
    "train_y_f = X_train_b2['Family']\n",
    "test_y_f = X_test_b2['Family']\n",
    "\n",
    "list_al_st = small_para_st(stand_train_x,train_y_f,stand_test_x,test_y_f)\n",
    "print(list_al_st)"
   ]
  },
  {
   "cell_type": "markdown",
   "metadata": {},
   "source": [
    "From the result above, we can choose c = 10, gamma = 0.005 as the small parameters when accuracy is approximately equals to the threshold 0.98."
   ]
  },
  {
   "cell_type": "code",
   "execution_count": 389,
   "metadata": {},
   "outputs": [
    {
     "name": "stdout",
     "output_type": "stream",
     "text": [
      "[[100, 0.1, 0.9874942102825383], [100, 0.2, 0.9819360815192218], [1000, 0.1, 0.9874942102825383], [1000, 0.2, 0.9819360815192218], [10000, 0.1, 0.9874942102825383], [10000, 0.2, 0.9819360815192218]]\n"
     ]
    }
   ],
   "source": [
    "list_all_large_st = []\n",
    "def large_para_st(X_train,y_train,X_test, y_test):\n",
    "    c_list = [100,1000,10000]\n",
    "    gamma_list =[0.1,0.2]\n",
    "    for i in c_list:\n",
    "        for j in gamma_list:\n",
    "            list_a = []\n",
    "            svc = SVC(kernel='rbf',gamma = j, C = i)\n",
    "            svc.fit(X_train, y_train)\n",
    "            score = svc.score(X_test, y_test)\n",
    "            list_a.append(i)\n",
    "            list_a.append(j)\n",
    "            list_a.append(score)\n",
    "            list_all_large_st.append(list_a)\n",
    "    return list_all_large_st\n",
    "list_al_large_st = large_para_st(stand_train_x,train_y_f,stand_test_x,test_y_f)\n",
    "print(list_al_large_st)"
   ]
  },
  {
   "cell_type": "markdown",
   "metadata": {},
   "source": [
    "From the result above, we can choose c = 100, gamma = 0.2 as the small parameters when accuracy is approximately equals to the threshold 0.98."
   ]
  },
  {
   "cell_type": "code",
   "execution_count": 390,
   "metadata": {},
   "outputs": [],
   "source": [
    "def best_para_st(X_train,y_train,X_test, y_test):\n",
    "    param_grid = {'C': [10,100],\n",
    "              'gamma': [0.005,0.025,0.045,0.065,0.085,0.105,0.125,0.145,0.165,0.185,0.205] }\n",
    "    grid = GridSearchCV(SVC(kernel='rbf'), param_grid, cv=10, scoring = 'accuracy')\n",
    "    grid.fit(X_train, y_train)\n",
    "    print(\"The best parameters are %s with a score of %0.8f\"% (grid.best_params_, grid.best_score_))\n",
    "    score = grid.score(X_test, y_test)\n",
    "    print('The exact match score is %0.8f'%score)\n",
    "    pre_result = grid.predict(X_test)\n",
    "    y_scores=grid.decision_function(X_test)\n",
    "    #confusion matrix\n",
    "    print(confusion_matrix(pre_result, y_test))\n",
    "    print('hamming loss is:')\n",
    "    print(hamming_loss(y_test, pre_result))\n",
    "    return y_scores, pre_result"
   ]
  },
  {
   "cell_type": "code",
   "execution_count": 391,
   "metadata": {},
   "outputs": [
    {
     "name": "stdout",
     "output_type": "stream",
     "text": [
      "The best parameters are {'C': 10, 'gamma': 0.045} with a score of 0.99324861\n",
      "The exact match score is 0.99212598\n",
      "[[  16    0    0    0]\n",
      " [   0  159    0    0]\n",
      " [   0    0  609    8]\n",
      " [   5    0    4 1358]]\n",
      "hamming loss is:\n",
      "0.007874015748031496\n"
     ]
    },
    {
     "data": {
      "image/png": "[encoded data removed]",
      "text/plain": [
       "<matplotlib.figure.Figure at 0x104c5f748>"
      ]
     },
     "metadata": {},
     "output_type": "display_data"
    }
   ],
   "source": [
    "\n",
    "#family\n",
    "y_scores_fst, result_fst = best_para_st(stand_train_x,train_y_f,stand_test_x,test_y_f)\n",
    "\n",
    "test_y_f.replace('Bufonidae', 0, inplace = True)\n",
    "test_y_f.replace('Dendrobatidae', 1, inplace = True)\n",
    "test_y_f.replace('Hylidae', 2, inplace = True)\n",
    "test_y_f.replace('Leptodactylidae', 3, inplace = True)\n",
    "\n",
    "fp_rate= {}\n",
    "tp_rate= {}\n",
    "thresholds = {}\n",
    "R_Auc= {}\n",
    "y_bin = label_binarize(test_y_f, classes=[0, 1, 2, 3])\n",
    "n_classes = y_bin.shape[1]\n",
    "\n",
    "#calulate the fp rate and tp rate by roc_curve\n",
    "for i in range(n_classes):\n",
    "    fp_rate[i], tp_rate[i], _ = roc_curve(y_bin[:, i], y_scores_fst[:, i])\n",
    "    #print(fp_rate[i])\n",
    "    #print(tp_rate[i])\n",
    "    R_Auc[i] = auc(fp_rate[i], tp_rate[i])\n",
    "#plot\n",
    "plt.figure()\n",
    "fp_rate1 = fp_rate[0]\n",
    "#print(fp_rate1)\n",
    "plt.plot(fp_rate[0],tp_rate[0],label='class 1(%0.2f)'%R_Auc[0])\n",
    "plt.plot(fp_rate[1],tp_rate[1],label='class 2(%0.2f)'%R_Auc[1])\n",
    "plt.plot(fp_rate[2],tp_rate[2],label='class 3(%0.2f)'%R_Auc[2])\n",
    "plt.plot(fp_rate[3],tp_rate[3],label='class 4(%0.2f)'%R_Auc[3])\n",
    "plt.plot([0, 1], [0, 1], 'k--')\n",
    "plt.xlim([0.0, 1.0])\n",
    "plt.ylim([0.0, 1.0])\n",
    "plt.xlabel('False Positive Rate')\n",
    "plt.ylabel('True Positive Rate')\n",
    "plt.legend(loc=\"lower right\")\n",
    "plt.show()\n",
    "\n"
   ]
  },
  {
   "cell_type": "code",
   "execution_count": 392,
   "metadata": {},
   "outputs": [
    {
     "name": "stdout",
     "output_type": "stream",
     "text": [
      "The best parameters are {'C': 100, 'gamma': 0.045} with a score of 0.99166005\n",
      "The exact match score is 0.98749421\n",
      "[[1284    0    2    4    0    2    0    2]\n",
      " [   0  159    0    0    0    0    0    0]\n",
      " [   3    0   81    0    1    0    0    0]\n",
      " [   2    0    0  448    1    3    1    0]\n",
      " [   0    0    0    1   75    0    4    0]\n",
      " [   0    0    0    1    0   24    0    0]\n",
      " [   0    0    0    0    0    0   16    0]\n",
      " [   0    0    0    0    0    0    0   45]]\n",
      "hamming loss is:\n",
      "0.012505789717461788\n"
     ]
    },
    {
     "data": {
      "image/png": "[encoded data removed]",
      "text/plain": [
       "<matplotlib.figure.Figure at 0x1a0b7f8438>"
      ]
     },
     "metadata": {},
     "output_type": "display_data"
    }
   ],
   "source": [
    "#Genus\n",
    "train_y_g = X_train_b2['Genus']\n",
    "\n",
    "test_y_g = X_test_b2['Genus']\n",
    "y_scores_gst, result_gst = best_para_st(stand_train_x,train_y_g,stand_test_x,test_y_g)\n",
    "\n",
    "test_y_g.replace('Adenomera', 0, inplace = True)\n",
    "test_y_g.replace('Ameerega', 1, inplace = True)\n",
    "test_y_g.replace('Dendropsophus', 2, inplace = True)\n",
    "test_y_g.replace('Hypsiboas', 3, inplace = True)\n",
    "test_y_g.replace('Leptodactylus',4, inplace = True)\n",
    "test_y_g.replace('Osteocephalus', 5, inplace = True)\n",
    "test_y_g.replace('Rhinella', 6, inplace = True)\n",
    "test_y_g.replace('Scinax', 7, inplace = True)\n",
    "fp_rate= {}\n",
    "tp_rate= {}\n",
    "thresholds = {}\n",
    "R_Auc= {}\n",
    "y_bin_g = label_binarize(test_y_g, classes=[0, 1, 2, 3,4,5,6,7])\n",
    "n_classes_g = y_bin_g.shape[1]\n",
    "\n",
    "#calulate the fp rate and tp rate by roc_curve\n",
    "for i in range(n_classes_g):\n",
    "    fp_rate[i], tp_rate[i], _ = roc_curve(y_bin_g[:, i], y_scores_g[:, i])\n",
    "    #print(fp_rate[i])\n",
    "    #print(tp_rate[i])\n",
    "    R_Auc[i] = auc(fp_rate[i], tp_rate[i])\n",
    "#plot\n",
    "plt.figure()\n",
    "fp_rate1 = fp_rate[0]\n",
    "#print(fp_rate1)\n",
    "plt.plot(fp_rate[0],tp_rate[0],label='class 1(%0.2f)'%R_Auc[0])\n",
    "plt.plot(fp_rate[1],tp_rate[1],label='class 2(%0.2f)'%R_Auc[1])\n",
    "plt.plot(fp_rate[2],tp_rate[2],label='class 3(%0.2f)'%R_Auc[2])\n",
    "plt.plot(fp_rate[3],tp_rate[3],label='class 4(%0.2f)'%R_Auc[3])\n",
    "plt.plot(fp_rate[4],tp_rate[4],label='class 5(%0.2f)'%R_Auc[4])\n",
    "plt.plot(fp_rate[5],tp_rate[5],label='class 6(%0.2f)'%R_Auc[5])\n",
    "plt.plot(fp_rate[6],tp_rate[6],label='class 7(%0.2f)'%R_Auc[6])\n",
    "plt.plot(fp_rate[7],tp_rate[7],label='class 8(%0.2f)'%R_Auc[7])\n",
    "plt.plot([0, 1], [0, 1], 'k--')\n",
    "plt.xlim([0.0, 1.0])\n",
    "plt.ylim([0.0, 1.0])\n",
    "plt.xlabel('False Positive Rate')\n",
    "plt.ylabel('True Positive Rate')\n",
    "plt.legend(loc=\"lower right\")\n",
    "plt.show()\n"
   ]
  },
  {
   "cell_type": "code",
   "execution_count": 393,
   "metadata": {},
   "outputs": [
    {
     "name": "stdout",
     "output_type": "stream",
     "text": [
      "The best parameters are {'C': 10, 'gamma': 0.045} with a score of 0.99066720\n",
      "The exact match score is 0.98749421\n",
      "[[ 204    0    0    0    1    1    0    0    0    1]\n",
      " [   0 1079    0    0    0    1    0    0    0    0]\n",
      " [   0    0  159    0    0    0    0    0    0    0]\n",
      " [   1    3    0   81    0    0    1    0    0    0]\n",
      " [   0    0    0    0  132    0    0    4    1    0]\n",
      " [   0    2    0    2    1  315    0    0    0    0]\n",
      " [   0    0    0    0    1    0   75    0    4    0]\n",
      " [   0    0    0    0    1    1    1   25    0    0]\n",
      " [   0    0    0    0    0    0    0    0   16    0]\n",
      " [   0    0    0    0    0    0    0    0    0   46]]\n",
      "hamming loss is:\n",
      "0.012505789717461788\n"
     ]
    },
    {
     "data": {
      "image/png": "[encoded data removed]",
      "text/plain": [
       "<matplotlib.figure.Figure at 0x1074a0b38>"
      ]
     },
     "metadata": {},
     "output_type": "display_data"
    }
   ],
   "source": [
    "#Species\n",
    "train_y_s = X_train_b2['Species']\n",
    "test_y_s = X_test_b2['Species']\n",
    "y_scores_sst,result_sst = best_para_st(stand_train_x,train_y_s,stand_test_x,test_y_s)\n",
    "\n",
    "test_y_s = X_test_b2['Species']\n",
    "test_y_s.replace('AdenomeraAndre', 0, inplace = True)\n",
    "test_y_s.replace('AdenomeraHylaedactylus', 1, inplace = True)\n",
    "test_y_s.replace('Ameeregatrivittata', 2, inplace = True)\n",
    "test_y_s.replace('HylaMinuta', 3, inplace = True)\n",
    "test_y_s.replace('HypsiboasCinerascens',4, inplace = True)\n",
    "test_y_s.replace('HypsiboasCordobae', 5, inplace = True)\n",
    "test_y_s.replace('LeptodactylusFuscus', 6, inplace = True)\n",
    "test_y_s.replace('OsteocephalusOophagus', 7, inplace = True)\n",
    "test_y_s.replace('Rhinellagranulosa', 8, inplace = True)\n",
    "test_y_s.replace('ScinaxRuber', 9, inplace = True)\n",
    "\n",
    "fp_rate= {}\n",
    "tp_rate= {}\n",
    "R_Auc= {}\n",
    "y_bin_s = label_binarize(test_y_s, classes=[0, 1, 2, 3, 4, 5, 6, 7, 8, 9])\n",
    "n_classes_s = y_bin_s.shape[1]\n",
    "\n",
    "#calulate the fp rate and tp rate by roc_curve\n",
    "for i in range(n_classes_s):\n",
    "    fp_rate[i], tp_rate[i], _ = roc_curve(y_bin_s[:, i], y_scores_s[:, i])\n",
    "    #print(fp_rate[i])\n",
    "    #print(tp_rate[i])\n",
    "    R_Auc[i] = auc(fp_rate[i], tp_rate[i])\n",
    "#plot\n",
    "plt.figure()\n",
    "fp_rate1 = fp_rate[0]\n",
    "#print(fp_rate1)\n",
    "plt.plot(fp_rate[0],tp_rate[0],label='class 1(%0.2f)'%R_Auc[0])\n",
    "plt.plot(fp_rate[1],tp_rate[1],label='class 2(%0.2f)'%R_Auc[1])\n",
    "plt.plot(fp_rate[2],tp_rate[2],label='class 3(%0.2f)'%R_Auc[2])\n",
    "plt.plot(fp_rate[3],tp_rate[3],label='class 4(%0.2f)'%R_Auc[3])\n",
    "plt.plot(fp_rate[4],tp_rate[4],label='class 5(%0.2f)'%R_Auc[4])\n",
    "plt.plot(fp_rate[5],tp_rate[5],label='class 6(%0.2f)'%R_Auc[5])\n",
    "plt.plot(fp_rate[6],tp_rate[6],label='class 7(%0.2f)'%R_Auc[6])\n",
    "plt.plot(fp_rate[7],tp_rate[7],label='class 8(%0.2f)'%R_Auc[7])\n",
    "plt.plot(fp_rate[8],tp_rate[8],label='class 9(%0.2f)'%R_Auc[8])\n",
    "plt.plot(fp_rate[9],tp_rate[9],label='class 10(%0.2f)'%R_Auc[9])\n",
    "plt.plot([0, 1], [0, 1], 'k--')\n",
    "plt.xlim([0.0, 1.0])\n",
    "plt.ylim([0.0, 1.0])\n",
    "plt.xlabel('False Positive Rate')\n",
    "plt.ylabel('True Positive Rate')\n",
    "plt.legend(loc=\"lower right\")\n",
    "plt.show()"
   ]
  },
  {
   "cell_type": "code",
   "execution_count": 433,
   "metadata": {},
   "outputs": [
    {
     "name": "stdout",
     "output_type": "stream",
     "text": [
      "The sum hamming loss is:\n",
      "0.010961865060985022\n"
     ]
    }
   ],
   "source": [
    "###all hamming loss\n",
    "test_y_f = X_test_b2['Family'] \n",
    "test_y_g = X_test_b2['Genus']\n",
    "test_y_s = X_test_b2['Species']\n",
    "tru_label = []\n",
    "pre_label = []\n",
    "test_y_f_list = test_y_f['Family'].values.tolist()\n",
    "test_y_g_list = test_y_g['Genus'].values.tolist()\n",
    "test_y_s_list = test_y_s['Species'].values.tolist()\n",
    "for i in range(len(test_y_f)):\n",
    "    #print(i)\n",
    "    arr_list_tru = []\n",
    "    arr_list_pre = []\n",
    "    arr_list_tru.append(test_y_f_list[i][0])\n",
    "    #print(test_y_f_list[i][0])\n",
    "    arr_list_tru.append(test_y_g_list[i][0])\n",
    "    arr_list_tru.append(test_y_s_list[i][0])\n",
    "    arr_list_pre.append(result_fst[i])\n",
    "    arr_list_pre.append(result_gst[i])\n",
    "    arr_list_pre.append(result_sst[i])\n",
    "    tru_label.append(arr_list_tru)\n",
    "    pre_label.append(arr_list_pre)\n",
    "score_list_d2 = []\n",
    "for i in range(len(test_y_f)):\n",
    "    score_d2 = hamming_loss(np.array(tru_label[i]), np.array(pre_label[i]))\n",
    "    score_list_d2.append(score_d2)\n",
    "\n",
    "print('The sum hamming loss is:')\n",
    "print(np.mean(score_list_d2))"
   ]
  },
  {
   "cell_type": "markdown",
   "metadata": {},
   "source": [
    "&nbsp;iii. Repeat 1(b)ii and L1-penalized SVMs.2 Remember to standardize3 the at- tributes"
   ]
  },
  {
   "cell_type": "code",
   "execution_count": 407,
   "metadata": {},
   "outputs": [
    {
     "name": "stdout",
     "output_type": "stream",
     "text": [
      "[[0.001, 0.8578045391384901], [0.01, 0.9342288096340898], [0.1, 0.9421028253821213], [1, 0.9411764705882353], [10, 0.9402501157943493]]\n"
     ]
    }
   ],
   "source": [
    "test_y_f = X_test_b2['Family']\n",
    "large_list = []\n",
    "def large_para_d3(X_train,y_train,X_test, y_test):\n",
    "    c_list = [1e-3,1e-2,1e-1,1,10]\n",
    "    for i in c_list:\n",
    "        list_a = []\n",
    "        lisvc = LinearSVC(penalty='l1',dual=False,C = i )\n",
    "        lisvc.fit(X_train, y_train)\n",
    "        score = lisvc.score(X_test, y_test)\n",
    "        list_a.append(i)\n",
    "        list_a.append(score)\n",
    "        large_list.append(list_a)\n",
    "    return large_list\n",
    "large_list = large_para_d3(stand_train_x,train_y_f,stand_test_x,test_y_f)\n",
    "print(large_list)"
   ]
  },
  {
   "cell_type": "markdown",
   "metadata": {},
   "source": [
    "from the result, we choose 1e-3 as the smallest parameter."
   ]
  },
  {
   "cell_type": "code",
   "execution_count": 442,
   "metadata": {},
   "outputs": [
    {
     "name": "stdout",
     "output_type": "stream",
     "text": [
      "[[100, 0.9397869383974062], [1000, 0.9397869383974062], [10000, 0.9397869383974062]]\n"
     ]
    }
   ],
   "source": [
    "test_y_f = X_test_b2['Family']\n",
    "small_list = []\n",
    "def small_para_d3(X_train,y_train,X_test, y_test):\n",
    "    c_list_l = [100,1000,10000]\n",
    "    for i in c_list_l:\n",
    "        list_a = []\n",
    "        lisvc_l = LinearSVC(penalty='l1',dual=False,C = i )\n",
    "        lisvc_l.fit(X_train, y_train)\n",
    "        score_l = lisvc_l.score(X_test, y_test)\n",
    "        list_a.append(i)\n",
    "        list_a.append(score_l)\n",
    "        small_list.append(list_a)\n",
    "    return small_list\n",
    "small_list = small_para_d3(stand_train_x,train_y_f,stand_test_x,test_y_f)\n",
    "print(small_list)"
   ]
  },
  {
   "cell_type": "markdown",
   "metadata": {},
   "source": [
    "From the result above, I choose the 10000 as the largest parameter. So the range will be [1e-3,1e-2,1e-1,1,10,100,1000,10000]."
   ]
  },
  {
   "cell_type": "code",
   "execution_count": 449,
   "metadata": {},
   "outputs": [],
   "source": [
    "from sklearn.svm import LinearSVC\n",
    "from sklearn.metrics import precision_score\n",
    "from sklearn.metrics import recall_score\n",
    "\n",
    "#define a function to choose the best C parameter and fill it into the new kmeans,\n",
    "#finally get the score and predict result\n",
    "def best_para_3(X_train,y_train,X_test, y_test):\n",
    "    param_grid = {'C': [1e-3,1e-2,1e-1,1,10,100,1000,10000] }\n",
    "    grid = GridSearchCV(LinearSVC(penalty='l1',dual=False ), param_grid, cv=10, scoring = 'accuracy')\n",
    "    grid.fit(X_train, y_train)\n",
    "    print(\"The best parameters are %s with a score of %0.8f\"% (grid.best_params_, grid.best_score_))\n",
    "    score = grid.score(X_test, y_test)\n",
    "    print('The exact match score is %0.8f'%score)\n",
    "    pre_result = grid.predict(X_test)\n",
    "    y_scores=grid.decision_function(X_test)\n",
    "    print('hamming loss is:')\n",
    "    print(hamming_loss(y_test, pre_result))\n",
    "    #confusion matrix\n",
    "    print(confusion_matrix(pre_result, y_test))\n",
    "    print('Precision score is:')\n",
    "    print(precision_score(y_test, pre_result, average='micro'))\n",
    "    print('Recall score is:')\n",
    "    print(recall_score(y_test, pre_result, average='micro') )\n",
    "    return y_scores,pre_result"
   ]
  },
  {
   "cell_type": "code",
   "execution_count": 444,
   "metadata": {},
   "outputs": [
    {
     "name": "stdout",
     "output_type": "stream",
     "text": [
      "The best parameters are {'C': 1} with a score of 0.93010326\n",
      "The exact match score is 0.94117647\n",
      "hamming loss is:\n",
      "0.058823529411764705\n",
      "[[   0    0    1    0]\n",
      " [   0  144    7   12]\n",
      " [  16   14  563   29]\n",
      " [   5    1   42 1325]]\n",
      "Precision score is:\n",
      "0.9411764705882353\n",
      "Recall score is:\n",
      "0.9411764705882353\n"
     ]
    },
    {
     "data": {
      "image/png": "[encoded data removed]",
      "text/plain": [
       "<matplotlib.figure.Figure at 0x1a0ab815f8>"
      ]
     },
     "metadata": {},
     "output_type": "display_data"
    }
   ],
   "source": [
    "#standarlize the data\n",
    "train_x_stan = X_train_b2[list(range(1,23,1))]\n",
    "test_x_stan = X_test_b2[list(range(1,23,1))]\n",
    "scaler = StandardScaler()\n",
    "stand_train_x = scaler.fit_transform(train_x_stan)\n",
    "stand_test_x = scaler.fit_transform(test_x_stan)\n",
    "\n",
    "train_y_f = X_train_b2['Family']\n",
    "test_y_f = X_test_b2['Family']\n",
    "#family\n",
    "y_scores_fst,result_d3f = best_para_3(stand_train_x,train_y_f,stand_test_x,test_y_f)\n",
    "\n",
    "test_y_f.replace('Bufonidae', 0, inplace = True)\n",
    "test_y_f.replace('Dendrobatidae', 1, inplace = True)\n",
    "test_y_f.replace('Hylidae', 2, inplace = True)\n",
    "test_y_f.replace('Leptodactylidae', 3, inplace = True)\n",
    "\n",
    "fp_rate= {}\n",
    "tp_rate= {}\n",
    "thresholds = {}\n",
    "R_Auc= {}\n",
    "y_bin = label_binarize(test_y_f, classes=[0, 1, 2, 3])\n",
    "n_classes = y_bin.shape[1]\n",
    "\n",
    "#calulate the fp rate and tp rate by roc_curve\n",
    "for i in range(n_classes):\n",
    "    fp_rate[i], tp_rate[i], _ = roc_curve(y_bin[:, i], y_scores_fst[:, i])\n",
    "    #print(fp_rate[i])\n",
    "    #print(tp_rate[i])\n",
    "    R_Auc[i] = auc(fp_rate[i], tp_rate[i])\n",
    "#plot\n",
    "plt.figure()\n",
    "fp_rate1 = fp_rate[0]\n",
    "#print(fp_rate1)\n",
    "plt.plot(fp_rate[0],tp_rate[0],label='class 1(%0.2f)'%R_Auc[0])\n",
    "plt.plot(fp_rate[1],tp_rate[1],label='class 2(%0.2f)'%R_Auc[1])\n",
    "plt.plot(fp_rate[2],tp_rate[2],label='class 3(%0.2f)'%R_Auc[2])\n",
    "plt.plot(fp_rate[3],tp_rate[3],label='class 4(%0.2f)'%R_Auc[3])\n",
    "plt.plot([0, 1], [0, 1], 'k--')\n",
    "plt.xlim([0.0, 1.0])\n",
    "plt.ylim([0.0, 1.0])\n",
    "plt.xlabel('False Positive Rate')\n",
    "plt.ylabel('True Positive Rate')\n",
    "plt.legend(loc=\"lower right\")\n",
    "plt.show()\n",
    "\n"
   ]
  },
  {
   "cell_type": "code",
   "execution_count": 416,
   "metadata": {},
   "outputs": [
    {
     "name": "stdout",
     "output_type": "stream",
     "text": [
      "The best parameters are {'C': 10} with a score of 0.95214456\n",
      "The exact match score is 0.95507179\n",
      "hamming loss is:\n",
      "0.04492820750347383\n",
      "[[1268    1   22    6    0    0    5    0]\n",
      " [   8  152    4    0    0    0    0    0]\n",
      " [   4    5   54    0    2    0    0    0]\n",
      " [   8    1    2  446    4   16    1    2]\n",
      " [   0    0    0    2   70    0    0    0]\n",
      " [   0    0    0    0    1   12    0    0]\n",
      " [   0    0    0    0    0    1   15    0]\n",
      " [   1    0    1    0    0    0    0   45]]\n",
      "Precision score is:\n",
      "0.9550717924965262\n",
      "Recall score is:\n",
      "0.9550717924965262\n"
     ]
    },
    {
     "data": {
      "image/png": "[encoded data removed]",
      "text/plain": [
       "<matplotlib.figure.Figure at 0x1a0b90b320>"
      ]
     },
     "metadata": {},
     "output_type": "display_data"
    }
   ],
   "source": [
    "#Genus\n",
    "train_y_g = X_train_b2['Genus']\n",
    "\n",
    "test_y_g = X_test_b2['Genus']\n",
    "y_scores_gst,result_d3g = best_para_3(stand_train_x,train_y_g,stand_test_x,test_y_g)\n",
    "\n",
    "test_y_g.replace('Adenomera', 0, inplace = True)\n",
    "test_y_g.replace('Ameerega', 1, inplace = True)\n",
    "test_y_g.replace('Dendropsophus', 2, inplace = True)\n",
    "test_y_g.replace('Hypsiboas', 3, inplace = True)\n",
    "test_y_g.replace('Leptodactylus',4, inplace = True)\n",
    "test_y_g.replace('Osteocephalus', 5, inplace = True)\n",
    "test_y_g.replace('Rhinella', 6, inplace = True)\n",
    "test_y_g.replace('Scinax', 7, inplace = True)\n",
    "fp_rate= {}\n",
    "tp_rate= {}\n",
    "thresholds = {}\n",
    "R_Auc= {}\n",
    "y_bin_g = label_binarize(test_y_g, classes=[0, 1, 2, 3,4,5,6,7])\n",
    "n_classes_g = y_bin_g.shape[1]\n",
    "\n",
    "#calulate the fp rate and tp rate by roc_curve\n",
    "for i in range(n_classes_g):\n",
    "    fp_rate[i], tp_rate[i], _ = roc_curve(y_bin_g[:, i], y_scores_g[:, i])\n",
    "    #print(fp_rate[i])\n",
    "    #print(tp_rate[i])\n",
    "    R_Auc[i] = auc(fp_rate[i], tp_rate[i])\n",
    "#plot\n",
    "plt.figure()\n",
    "fp_rate1 = fp_rate[0]\n",
    "#print(fp_rate1)\n",
    "plt.plot(fp_rate[0],tp_rate[0],label='class 1(%0.2f)'%R_Auc[0])\n",
    "plt.plot(fp_rate[1],tp_rate[1],label='class 2(%0.2f)'%R_Auc[1])\n",
    "plt.plot(fp_rate[2],tp_rate[2],label='class 3(%0.2f)'%R_Auc[2])\n",
    "plt.plot(fp_rate[3],tp_rate[3],label='class 4(%0.2f)'%R_Auc[3])\n",
    "plt.plot(fp_rate[4],tp_rate[4],label='class 5(%0.2f)'%R_Auc[4])\n",
    "plt.plot(fp_rate[5],tp_rate[5],label='class 6(%0.2f)'%R_Auc[5])\n",
    "plt.plot(fp_rate[6],tp_rate[6],label='class 7(%0.2f)'%R_Auc[6])\n",
    "plt.plot(fp_rate[7],tp_rate[7],label='class 8(%0.2f)'%R_Auc[7])\n",
    "plt.plot([0, 1], [0, 1], 'k--')\n",
    "plt.xlim([0.0, 1.0])\n",
    "plt.ylim([0.0, 1.0])\n",
    "plt.xlabel('False Positive Rate')\n",
    "plt.ylabel('True Positive Rate')\n",
    "plt.legend(loc=\"lower right\")\n",
    "plt.show()\n",
    "\n"
   ]
  },
  {
   "cell_type": "code",
   "execution_count": 415,
   "metadata": {},
   "outputs": [
    {
     "name": "stdout",
     "output_type": "stream",
     "text": [
      "The best parameters are {'C': 100} with a score of 0.95750596\n",
      "The exact match score is 0.96387216\n",
      "hamming loss is:\n",
      "0.036127836961556276\n",
      "[[ 197    0    0    7    0    0    1    1    5    0]\n",
      " [   0 1078    0    5    0    2    0    0    0    0]\n",
      " [   5    3  152    7    0    0    0    0    0    0]\n",
      " [   1    1    5   60    0    0    2    0    0    0]\n",
      " [   0    1    0    0  135    3    0    3    0    0]\n",
      " [   2    0    2    3    0  311    3    9    0    1]\n",
      " [   0    0    0    0    1    1   71    0    0    0]\n",
      " [   0    0    0    0    0    0    0   15    0    0]\n",
      " [   0    0    0    0    0    1    0    1   16    0]\n",
      " [   0    1    0    1    0    0    0    0    0   46]]\n",
      "Precision score is:\n",
      "0.9638721630384437\n",
      "Recall score is:\n",
      "0.9638721630384437\n"
     ]
    },
    {
     "data": {
      "image/png": "[encoded data removed]",
      "text/plain": [
       "<matplotlib.figure.Figure at 0x104c5f748>"
      ]
     },
     "metadata": {},
     "output_type": "display_data"
    }
   ],
   "source": [
    "#Species\n",
    "train_y_s = X_train_b2['Species']\n",
    "test_y_s = X_test_b2['Species']\n",
    "y_scores_sst,result_d3s = best_para_3(stand_train_x,train_y_s,stand_test_x,test_y_s)\n",
    "\n",
    "test_y_s = X_test_b2['Species']\n",
    "test_y_s.replace('AdenomeraAndre', 0, inplace = True)\n",
    "test_y_s.replace('AdenomeraHylaedactylus', 1, inplace = True)\n",
    "test_y_s.replace('Ameeregatrivittata', 2, inplace = True)\n",
    "test_y_s.replace('HylaMinuta', 3, inplace = True)\n",
    "test_y_s.replace('HypsiboasCinerascens',4, inplace = True)\n",
    "test_y_s.replace('HypsiboasCordobae', 5, inplace = True)\n",
    "test_y_s.replace('LeptodactylusFuscus', 6, inplace = True)\n",
    "test_y_s.replace('OsteocephalusOophagus', 7, inplace = True)\n",
    "test_y_s.replace('Rhinellagranulosa', 8, inplace = True)\n",
    "test_y_s.replace('ScinaxRuber', 9, inplace = True)\n",
    "\n",
    "fp_rate= {}\n",
    "tp_rate= {}\n",
    "R_Auc= {}\n",
    "y_bin_s = label_binarize(test_y_s, classes=[0, 1, 2, 3, 4, 5, 6, 7, 8, 9])\n",
    "n_classes_s = y_bin_s.shape[1]\n",
    "\n",
    "#calulate the fp rate and tp rate by roc_curve\n",
    "for i in range(n_classes_s):\n",
    "    fp_rate[i], tp_rate[i], _ = roc_curve(y_bin_s[:, i], y_scores_s[:, i])\n",
    "    #print(fp_rate[i])\n",
    "    #print(tp_rate[i])\n",
    "    R_Auc[i] = auc(fp_rate[i], tp_rate[i])\n",
    "#plot\n",
    "plt.figure()\n",
    "fp_rate1 = fp_rate[0]\n",
    "#print(fp_rate1)\n",
    "plt.plot(fp_rate[0],tp_rate[0],label='class 1(%0.2f)'%R_Auc[0])\n",
    "plt.plot(fp_rate[1],tp_rate[1],label='class 2(%0.2f)'%R_Auc[1])\n",
    "plt.plot(fp_rate[2],tp_rate[2],label='class 3(%0.2f)'%R_Auc[2])\n",
    "plt.plot(fp_rate[3],tp_rate[3],label='class 4(%0.2f)'%R_Auc[3])\n",
    "plt.plot(fp_rate[4],tp_rate[4],label='class 5(%0.2f)'%R_Auc[4])\n",
    "plt.plot(fp_rate[5],tp_rate[5],label='class 6(%0.2f)'%R_Auc[5])\n",
    "plt.plot(fp_rate[6],tp_rate[6],label='class 7(%0.2f)'%R_Auc[6])\n",
    "plt.plot(fp_rate[7],tp_rate[7],label='class 8(%0.2f)'%R_Auc[7])\n",
    "plt.plot(fp_rate[8],tp_rate[8],label='class 9(%0.2f)'%R_Auc[8])\n",
    "plt.plot(fp_rate[9],tp_rate[9],label='class 10(%0.2f)'%R_Auc[9])\n",
    "plt.plot([0, 1], [0, 1], 'k--')\n",
    "plt.xlim([0.0, 1.0])\n",
    "plt.ylim([0.0, 1.0])\n",
    "plt.xlabel('False Positive Rate')\n",
    "plt.ylabel('True Positive Rate')\n",
    "plt.legend(loc=\"lower right\")\n",
    "plt.show()"
   ]
  },
  {
   "cell_type": "code",
   "execution_count": 434,
   "metadata": {},
   "outputs": [
    {
     "name": "stdout",
     "output_type": "stream",
     "text": [
      "The sum hamming loss is:\n",
      "0.04662652462559826\n"
     ]
    }
   ],
   "source": [
    "###all hamming loss\n",
    "test_y_f = X_test_b2['Family'] \n",
    "test_y_g = X_test_b2['Genus']\n",
    "test_y_s = X_test_b2['Species']\n",
    "tru_label = []\n",
    "pre_label = []\n",
    "test_y_f_list = test_y_f['Family'].values.tolist()\n",
    "test_y_g_list = test_y_g['Genus'].values.tolist()\n",
    "test_y_s_list = test_y_s['Species'].values.tolist()\n",
    "for i in range(len(test_y_f)):\n",
    "    #print(i)\n",
    "    arr_list_tru = []\n",
    "    arr_list_pre = []\n",
    "    arr_list_tru.append(test_y_f_list[i][0])\n",
    "    #print(test_y_f_list[i][0])\n",
    "    arr_list_tru.append(test_y_g_list[i][0])\n",
    "    arr_list_tru.append(test_y_s_list[i][0])\n",
    "    arr_list_pre.append(result_d3f[i])\n",
    "    arr_list_pre.append(result_d3g[i])\n",
    "    arr_list_pre.append(result_d3s[i])\n",
    "    tru_label.append(arr_list_tru)\n",
    "    pre_label.append(arr_list_pre)\n",
    "score_list_d2 = []\n",
    "for i in range(len(test_y_f)):\n",
    "    score_d2 = hamming_loss(np.array(tru_label[i]), np.array(pre_label[i]))\n",
    "    score_list_d2.append(score_d2)\n",
    "\n",
    "print('The sum hamming loss is:')\n",
    "print(np.mean(score_list_d2))"
   ]
  },
  {
   "cell_type": "markdown",
   "metadata": {},
   "source": [
    "&nbsp; iv. Repeat 1(b)iii by using SMOTE or any other method you know to remedy class imbalance. Report your conclusions about the classifiers you trained.\n"
   ]
  },
  {
   "cell_type": "code",
   "execution_count": 435,
   "metadata": {},
   "outputs": [],
   "source": [
    "from imblearn.over_sampling import SMOTE\n",
    "#initialize smote function\n",
    "smo1 = SMOTE(k_neighbors =2)\n",
    "smo2 = SMOTE(k_neighbors =2)\n"
   ]
  },
  {
   "cell_type": "code",
   "execution_count": 445,
   "metadata": {},
   "outputs": [
    {
     "name": "stdout",
     "output_type": "stream",
     "text": [
      "The best parameters are {'C': 1} with a score of 0.95039293\n",
      "The exact match score is 0.89787701\n",
      "hamming loss is:\n",
      "0.1021229868228404\n",
      "[[1042    0   33   13]\n",
      " [   0 1359   53   25]\n",
      " [   0    7 1218   41]\n",
      " [ 324    0   62 1287]]\n",
      "Precision score is:\n",
      "0.8978770131771596\n",
      "Recall score is:\n",
      "0.8978770131771596\n"
     ]
    }
   ],
   "source": [
    "train_x_stan = X_train_b2[list(range(1,23,1))]\n",
    "test_x_stan = X_test_b2[list(range(1,23,1))]\n",
    "\n",
    "#standardize\n",
    "scaler = StandardScaler()\n",
    "stand_train_x = scaler.fit_transform(train_x_stan)\n",
    "stand_test_x = scaler.fit_transform(test_x_stan)\n",
    "train_y_f = X_train_b2['Family']\n",
    "test_y_f = X_test_b2['Family']\n",
    "\n",
    "#smote\n",
    "X_train_b4, y_train_b4 = smo1.fit_sample(stand_train_x, train_y_f)\n",
    "X_test_b4, y_test_b4 = smo2.fit_sample(stand_test_x , test_y_f)\n",
    "\n",
    "#family\n",
    "y_scores_fst,result_smof = best_para_3(X_train_b4,y_train_b4,X_test_b4, y_test_b4)\n"
   ]
  },
  {
   "cell_type": "code",
   "execution_count": 446,
   "metadata": {},
   "outputs": [
    {
     "data": {
      "image/png": "[encoded data removed]",
      "text/plain": [
       "<matplotlib.figure.Figure at 0x1a0b870898>"
      ]
     },
     "metadata": {},
     "output_type": "display_data"
    }
   ],
   "source": [
    "y_test_b4_df=pd.DataFrame(y_test_b4)\n",
    "y_test_b4_df.replace('Bufonidae', 0, inplace = True)\n",
    "y_test_b4_df.replace('Dendrobatidae', 1, inplace = True)\n",
    "y_test_b4_df.replace('Hylidae', 2, inplace = True)\n",
    "y_test_b4_df.replace('Leptodactylidae', 3, inplace = True)\n",
    "\n",
    "fp_rate= {}\n",
    "tp_rate= {}\n",
    "thresholds = {}\n",
    "R_Auc= {}\n",
    "y_bin_f4 = label_binarize(y_test_b4_df, classes=[0, 1, 2, 3])\n",
    "n_classes_d4 = y_bin_f4.shape[1]\n",
    "\n",
    "#calulate the fp rate and tp rate by roc_curve\n",
    "for i in range(n_classes_d4):\n",
    "    fp_rate[i], tp_rate[i], _ = roc_curve(y_bin_f4[:, i], y_scores_fst[:, i])\n",
    "    #print(fp_rate[i])\n",
    "    #print(tp_rate[i])\n",
    "    R_Auc[i] = auc(fp_rate[i], tp_rate[i])\n",
    "#plot\n",
    "plt.figure()\n",
    "fp_rate1 = fp_rate[0]\n",
    "#print(fp_rate1)\n",
    "plt.plot(fp_rate[0],tp_rate[0],label='class 1(%0.2f)'%R_Auc[0])\n",
    "plt.plot(fp_rate[1],tp_rate[1],label='class 2(%0.2f)'%R_Auc[1])\n",
    "plt.plot(fp_rate[2],tp_rate[2],label='class 3(%0.2f)'%R_Auc[2])\n",
    "plt.plot(fp_rate[3],tp_rate[3],label='class 4(%0.2f)'%R_Auc[3])\n",
    "plt.plot([0, 1], [0, 1], 'k--')\n",
    "plt.xlim([0.0, 1.0])\n",
    "plt.ylim([0.0, 1.0])\n",
    "plt.xlabel('False Positive Rate')\n",
    "plt.ylabel('True Positive Rate')\n",
    "plt.legend(loc=\"lower right\")\n",
    "plt.show()\n",
    "\n",
    "\n",
    "\n"
   ]
  },
  {
   "cell_type": "code",
   "execution_count": 447,
   "metadata": {},
   "outputs": [
    {
     "name": "stdout",
     "output_type": "stream",
     "text": [
      "The best parameters are {'C': 10} with a score of 0.96098392\n",
      "The exact match score is 0.91398371\n",
      "hamming loss is:\n",
      "0.08601629169899147\n",
      "[[1176    0   31   16    0    9  249    0]\n",
      " [  24 1259   37    0    0    0    0    0]\n",
      " [  47   30 1204    0   19    1    0    0]\n",
      " [   9    0    0 1231   19  169    0    0]\n",
      " [   1    0    1    7 1242   28   44    0]\n",
      " [  25    0    0   26    8 1028    0    0]\n",
      " [   6    0    8    7    1   54  996    0]\n",
      " [   1    0    8    2    0    0    0 1289]]\n",
      "Precision score is:\n",
      "0.9139837083010085\n",
      "Recall score is:\n",
      "0.9139837083010085\n"
     ]
    }
   ],
   "source": [
    "#Genus\n",
    "train_y_g = X_train_b2['Genus']\n",
    "test_y_g = X_test_b2['Genus']\n",
    "#smote\n",
    "X_train_g4, y_train_g4 = smo1.fit_sample(stand_train_x, train_y_g)\n",
    "X_test_g4, y_test_g4 = smo2.fit_sample(stand_test_x , test_y_g)\n",
    "\n",
    "y_scores_gst,result_smog = best_para_3(X_train_g4, y_train_g4,X_test_g4, y_test_g4)\n"
   ]
  },
  {
   "cell_type": "code",
   "execution_count": 448,
   "metadata": {},
   "outputs": [
    {
     "data": {
      "image/png": "[encoded data removed]",
      "text/plain": [
       "<matplotlib.figure.Figure at 0x1a17afefd0>"
      ]
     },
     "metadata": {},
     "output_type": "display_data"
    }
   ],
   "source": [
    "\n",
    "y_test_g4_df=pd.DataFrame(y_test_g4)\n",
    "\n",
    "y_test_g4_df.replace('Adenomera', 0, inplace = True)\n",
    "y_test_g4_df.replace('Ameerega', 1, inplace = True)\n",
    "y_test_g4_df.replace('Dendropsophus', 2, inplace = True)\n",
    "y_test_g4_df.replace('Hypsiboas', 3, inplace = True)\n",
    "y_test_g4_df.replace('Leptodactylus',4, inplace = True)\n",
    "y_test_g4_df.replace('Osteocephalus', 5, inplace = True)\n",
    "y_test_g4_df.replace('Rhinella', 6, inplace = True)\n",
    "y_test_g4_df.replace('Scinax', 7, inplace = True)\n",
    "fp_rate= {}\n",
    "tp_rate= {}\n",
    "thresholds = {}\n",
    "R_Auc= {}\n",
    "y_bin_g4 = label_binarize(y_test_g4_df, classes=[0, 1, 2, 3,4,5,6,7])\n",
    "n_classes_g4 = y_bin_g4.shape[1]\n",
    "\n",
    "#calulate the fp rate and tp rate by roc_curve\n",
    "for i in range(n_classes_g4):\n",
    "    fp_rate[i], tp_rate[i], _ = roc_curve(y_bin_g4[:, i], y_scores_gst[:, i])\n",
    "    #print(fp_rate[i])\n",
    "    #print(tp_rate[i])\n",
    "    R_Auc[i] = auc(fp_rate[i], tp_rate[i])\n",
    "#plot\n",
    "plt.figure()\n",
    "fp_rate1 = fp_rate[0]\n",
    "#print(fp_rate1)\n",
    "plt.plot(fp_rate[0],tp_rate[0],label='class 1(%0.2f)'%R_Auc[0])\n",
    "plt.plot(fp_rate[1],tp_rate[1],label='class 2(%0.2f)'%R_Auc[1])\n",
    "plt.plot(fp_rate[2],tp_rate[2],label='class 3(%0.2f)'%R_Auc[2])\n",
    "plt.plot(fp_rate[3],tp_rate[3],label='class 4(%0.2f)'%R_Auc[3])\n",
    "plt.plot(fp_rate[4],tp_rate[4],label='class 5(%0.2f)'%R_Auc[4])\n",
    "plt.plot(fp_rate[5],tp_rate[5],label='class 6(%0.2f)'%R_Auc[5])\n",
    "plt.plot(fp_rate[6],tp_rate[6],label='class 7(%0.2f)'%R_Auc[6])\n",
    "plt.plot(fp_rate[7],tp_rate[7],label='class 8(%0.2f)'%R_Auc[7])\n",
    "plt.plot([0, 1], [0, 1], 'k--')\n",
    "plt.xlim([0.0, 1.0])\n",
    "plt.ylim([0.0, 1.0])\n",
    "plt.xlabel('False Positive Rate')\n",
    "plt.ylabel('True Positive Rate')\n",
    "plt.legend(loc=\"lower right\")\n",
    "plt.show()\n",
    "\n",
    "\n",
    "\n"
   ]
  },
  {
   "cell_type": "code",
   "execution_count": 450,
   "metadata": {},
   "outputs": [
    {
     "name": "stdout",
     "output_type": "stream",
     "text": [
      "The best parameters are {'C': 1} with a score of 0.95597327\n",
      "The exact match score is 0.92103321\n",
      "hamming loss is:\n",
      "0.07896678966789668\n",
      "[[1051    0    4   33    0    0    0    0  213    0]\n",
      " [   0 1069    0    9    0   17    0    0    0    0]\n",
      " [  20    3 1021   42    0    0    0    0    0    0]\n",
      " [   2    5   50  954    0    0   15    0    0    0]\n",
      " [   1    5    0    0 1065   15    0   90    0    0]\n",
      " [   1    1    6   17    0 1035   28   61    0    0]\n",
      " [   0    0    0    2    7    5 1037   33   30    0]\n",
      " [   9    0    0    0   12   10    3  833    1    0]\n",
      " [   0    0    3   25    0    2    1   57  840    5]\n",
      " [   0    1    0    2    0    0    0   10    0 1079]]\n",
      "Precision score is:\n",
      "0.9210332103321033\n",
      "Recall score is:\n",
      "0.9210332103321033\n"
     ]
    }
   ],
   "source": [
    "#Species\n",
    "train_y_s = X_train_b2['Species']\n",
    "test_y_s = X_test_b2['Species']\n",
    "#smote\n",
    "X_train_s4, y_train_s4 = smo1.fit_sample(stand_train_x, train_y_s)\n",
    "X_test_s4, y_test_s4 = smo2.fit_sample(stand_test_x , test_y_s)\n",
    "y_scores_sst,result_smos = best_para_3(X_train_s4, y_train_s4,X_test_s4, y_test_s4)\n"
   ]
  },
  {
   "cell_type": "code",
   "execution_count": 451,
   "metadata": {},
   "outputs": [
    {
     "data": {
      "image/png": "[encoded data removed]",
      "text/plain": [
       "<matplotlib.figure.Figure at 0x1a0b3892b0>"
      ]
     },
     "metadata": {},
     "output_type": "display_data"
    }
   ],
   "source": [
    "y_test_s4_df=pd.DataFrame(y_test_s4)\n",
    "y_test_s4_df.replace('AdenomeraAndre', 0, inplace = True)\n",
    "y_test_s4_df.replace('AdenomeraHylaedactylus', 1, inplace = True)\n",
    "y_test_s4_df.replace('Ameeregatrivittata', 2, inplace = True)\n",
    "y_test_s4_df.replace('HylaMinuta', 3, inplace = True)\n",
    "y_test_s4_df.replace('HypsiboasCinerascens',4, inplace = True)\n",
    "y_test_s4_df.replace('HypsiboasCordobae', 5, inplace = True)\n",
    "y_test_s4_df.replace('LeptodactylusFuscus', 6, inplace = True)\n",
    "y_test_s4_df.replace('OsteocephalusOophagus', 7, inplace = True)\n",
    "y_test_s4_df.replace('Rhinellagranulosa', 8, inplace = True)\n",
    "y_test_s4_df.replace('ScinaxRuber', 9, inplace = True)\n",
    "\n",
    "fp_rate= {}\n",
    "tp_rate= {}\n",
    "R_Auc= {}\n",
    "y_bin_s4 = label_binarize(y_test_s4_df, classes=[0, 1, 2, 3, 4, 5, 6, 7, 8, 9])\n",
    "n_classes_s4 = y_bin_s4.shape[1]\n",
    "\n",
    "#calulate the fp rate and tp rate by roc_curve\n",
    "for i in range(n_classes_s):\n",
    "    fp_rate[i], tp_rate[i], _ = roc_curve(y_bin_s4[:, i], y_scores_sst[:, i])\n",
    "    #print(fp_rate[i])\n",
    "    #print(tp_rate[i])\n",
    "    R_Auc[i] = auc(fp_rate[i], tp_rate[i])\n",
    "#plot\n",
    "plt.figure()\n",
    "fp_rate1 = fp_rate[0]\n",
    "#print(fp_rate1)\n",
    "plt.plot(fp_rate[0],tp_rate[0],label='class 1(%0.2f)'%R_Auc[0])\n",
    "plt.plot(fp_rate[1],tp_rate[1],label='class 2(%0.2f)'%R_Auc[1])\n",
    "plt.plot(fp_rate[2],tp_rate[2],label='class 3(%0.2f)'%R_Auc[2])\n",
    "plt.plot(fp_rate[3],tp_rate[3],label='class 4(%0.2f)'%R_Auc[3])\n",
    "plt.plot(fp_rate[4],tp_rate[4],label='class 5(%0.2f)'%R_Auc[4])\n",
    "plt.plot(fp_rate[5],tp_rate[5],label='class 6(%0.2f)'%R_Auc[5])\n",
    "plt.plot(fp_rate[6],tp_rate[6],label='class 7(%0.2f)'%R_Auc[6])\n",
    "plt.plot(fp_rate[7],tp_rate[7],label='class 8(%0.2f)'%R_Auc[7])\n",
    "plt.plot(fp_rate[8],tp_rate[8],label='class 9(%0.2f)'%R_Auc[8])\n",
    "plt.plot(fp_rate[9],tp_rate[9],label='class 10(%0.2f)'%R_Auc[9])\n",
    "plt.plot([0, 1], [0, 1], 'k--')\n",
    "plt.xlim([0.0, 1.0])\n",
    "plt.ylim([0.0, 1.0])\n",
    "plt.xlabel('False Positive Rate')\n",
    "plt.ylabel('True Positive Rate')\n",
    "plt.legend(loc=\"lower right\")\n",
    "plt.show()"
   ]
  },
  {
   "cell_type": "code",
   "execution_count": 452,
   "metadata": {},
   "outputs": [
    {
     "name": "stdout",
     "output_type": "stream",
     "text": [
      "The sum hamming loss is:\n",
      "0.06793268488497761\n"
     ]
    }
   ],
   "source": [
    "###all hamming loss\n",
    "test_y_f = X_test_b2['Family'] \n",
    "test_y_g = X_test_b2['Genus']\n",
    "test_y_s = X_test_b2['Species']\n",
    "tru_label = []\n",
    "pre_label = []\n",
    "test_y_f_list = test_y_f['Family'].values.tolist()\n",
    "test_y_g_list = test_y_g['Genus'].values.tolist()\n",
    "test_y_s_list = test_y_s['Species'].values.tolist()\n",
    "for i in range(len(test_y_f)):\n",
    "    #print(i)\n",
    "    arr_list_tru = []\n",
    "    arr_list_pre = []\n",
    "    arr_list_tru.append(test_y_f_list[i][0])\n",
    "    #print(test_y_f_list[i][0])\n",
    "    arr_list_tru.append(test_y_g_list[i][0])\n",
    "    arr_list_tru.append(test_y_s_list[i][0])\n",
    "    arr_list_pre.append(result_smof[i])\n",
    "    arr_list_pre.append(result_smog[i])\n",
    "    arr_list_pre.append(result_smos[i])\n",
    "    tru_label.append(arr_list_tru)\n",
    "    pre_label.append(arr_list_pre)\n",
    "score_list_d3 = []\n",
    "for i in range(len(test_y_f)):\n",
    "    score_d3 = hamming_loss(np.array(tru_label[i]), np.array(pre_label[i]))\n",
    "    score_list_d3.append(score_d3)\n",
    "\n",
    "print('The sum hamming loss is:')\n",
    "print(np.mean(score_list_d3))"
   ]
  },
  {
   "cell_type": "markdown",
   "metadata": {},
   "source": [
    "&nbsp;vi. Extra Practice: Research how confusion matrices, precision, recall, ROC, and AUC are defined for multi-label classification and compute them for the classifiers you trained in above."
   ]
  },
  {
   "cell_type": "markdown",
   "metadata": {},
   "source": [
    "The confusion matrices, precision, recall, roc and auc are shown above with each questions."
   ]
  },
  {
   "cell_type": "markdown",
   "metadata": {},
   "source": [
    "### 2. K-Means Clustering on a Multi-Class and Multi-Label Data Set\n",
    "#### &nbsp; Monte-Carlo Simulation: Perform the following procedures 50 times, and report the average and standard deviation of the 50 Hamming Distances that you calculate\n",
    "#### &nbsp; (a) Use k-means clustering on the whole Anuran Calls (MFCCs) Data Set (do not split the data into train and test, as we are not performing supervised learning in this exercise). Choose k automatically based on one of the methods provided in the slides (CH or Gap Statistics or scree plots or Silhouettes) or any other method you know.\n",
    "#### &nbsp;(b) In each cluster, determine which family is the majority by reading the true labels. Repeat for genus and species.\n",
    "#### &nbsp;(c) Now for each cluster you have a majority label triplet (family, genus, species). Calculate the average Hamming distance (score) between the true labels and the labels assigned by clusters."
   ]
  },
  {
   "cell_type": "code",
   "execution_count": 207,
   "metadata": {},
   "outputs": [],
   "source": [
    "import numpy as np\n",
    "import pandas as pd\n",
    "import matplotlib.pyplot as plt\n",
    "from gap_statistic import OptimalK\n",
    "from sklearn.datasets.samples_generator import make_blobs\n",
    "from sklearn.cluster import KMeans\n",
    "from sklearn.neighbors import DistanceMetric\n",
    "from sklearn.metrics import hamming_loss\n",
    "\n"
   ]
  },
  {
   "cell_type": "code",
   "execution_count": 228,
   "metadata": {},
   "outputs": [
    {
     "name": "stdout",
     "output_type": "stream",
     "text": [
      "(7195, 22)\n",
      "(7195, 1)\n"
     ]
    }
   ],
   "source": [
    "data2 = pd.read_csv('Frogs_MFCCs.csv', sep = ',', header = 0)\n",
    "\n",
    "X_2 = data2.drop(columns=['RecordID'])\n",
    "\n",
    "#rename the features\n",
    "column_list2 = []\n",
    "for i in range(1,23,1):\n",
    "    column_list2.append(i)\n",
    "column_list2.append('Family')\n",
    "column_list2.append('Genus')\n",
    "column_list2.append('Species')\n",
    "X_2.columns = [column_list]\n",
    "\n",
    "\n",
    "x2 = X_2[list(range(1,23,1))]\n",
    "y2 = X_2['Species']\n",
    "print(x2.shape)\n",
    "print(y2.shape)"
   ]
  },
  {
   "cell_type": "code",
   "execution_count": 465,
   "metadata": {},
   "outputs": [],
   "source": [
    "from sklearn.datasets import make_blobs\n",
    "from sklearn.cluster import KMeans\n",
    "from sklearn.metrics import silhouette_samples, silhouette_score\n",
    "from collections import Counter\n",
    "\n",
    "#define a new function which uses silhouette_score to determine the best k\n",
    "def kmeans(random_i):\n",
    "    arr_tru = []\n",
    "    arr_pre = []\n",
    "    range_n_clusters = list(range(2,7195,1))\n",
    "    sil_score = []\n",
    "    exit_flag = False\n",
    "    for n_clusters in range_n_clusters:\n",
    "    \n",
    "        clusterer = KMeans(n_clusters=n_clusters)\n",
    "        cluster_labels = clusterer.fit_predict(x2)\n",
    "\n",
    "    # The silhouette_score gives the average value for all the samples.\n",
    "    # This gives a perspective into the density and separation of the formed\n",
    "        silhouette_avg = silhouette_score(x2, cluster_labels)\n",
    "        sil_score.append(silhouette_avg)\n",
    "        if n_clusters >=3:\n",
    "            if sil_score[-1] < sil_score[-2] and sil_score[-3] < sil_score[-2]:\n",
    "                exit_flag = True\n",
    "                break \n",
    "        if exit_flag == True:\n",
    "            break\n",
    "    optimalk = len(sil_score)\n",
    "    clusterer = KMeans(n_clusters=optimalk, random_state = random_i)\n",
    "    cluster_labels = clusterer.fit_predict(x2)\n",
    "\n",
    "    list_label = []\n",
    "    for i in list(range(0,4,1)):\n",
    "        list_i = []\n",
    "        count = 0\n",
    "        for j in cluster_labels:\n",
    "            if j == i:\n",
    "                list_i.append(count)\n",
    "            count +=1\n",
    "        list_label.append(list_i)\n",
    "\n",
    "\n",
    "    label_f_tru = X_2['Family'].values.tolist()\n",
    "    label_f_pre = []\n",
    "    label_g_tru = X_2['Genus'].values.tolist()\n",
    "    label_g_pre = []\n",
    "    label_s_tru = X_2['Species'].values.tolist()\n",
    "    label_s_pre = []\n",
    "    for i in list(range(0,4,1)):\n",
    "        label_list_f = []\n",
    "        label_list_g = []\n",
    "        label_list_s = []\n",
    "        for j in list_label[i]:\n",
    "            label_list_f.append(label_f_tru[j][0])\n",
    "            label_list_g.append(label_g_tru[j][0])\n",
    "            label_list_s.append(label_s_tru[j][0])\n",
    "    #print(label_list)\n",
    "        c_f = Counter(label_list_f)\n",
    "        pre_label = c_f.most_common(1)[0][0]\n",
    "        label_f_pre.append(pre_label)\n",
    "        c_g = Counter(label_list_g)\n",
    "        pre_label = c_g.most_common(1)[0][0]\n",
    "        label_g_pre.append(pre_label)\n",
    "        c_s = Counter(label_list_s)\n",
    "        pre_label = c_s.most_common(1)[0][0]\n",
    "        label_s_pre.append(pre_label)\n",
    "\n",
    "    cluster_label_list = cluster_labels.tolist()\n",
    "    label_f = []\n",
    "    label_g = []\n",
    "    label_s = []\n",
    "    for i in cluster_label_list:\n",
    "        for j in list(range(0,4,1)):\n",
    "            if i  == j:\n",
    "                label_f.append(label_f_pre[j])\n",
    "                label_g.append(label_g_pre[j])\n",
    "                label_s.append(label_s_pre[j])\n",
    "      \n",
    "    for i in range(len(label_f_tru)):\n",
    "        arr_list_tru = []\n",
    "        arr_list_pre = []\n",
    "        arr_list_tru.append(label_f_tru[i][0])\n",
    "        arr_list_tru.append(label_g_tru[i][0])\n",
    "        arr_list_tru.append(label_s_tru[i][0])\n",
    "        arr_list_pre.append(label_f[i])\n",
    "        arr_list_pre.append(label_g[i])\n",
    "        arr_list_pre.append(label_s[i])\n",
    "        arr_tru.append(arr_list_tru)\n",
    "        arr_pre.append(arr_list_pre)\n",
    "    score_list = []\n",
    "    for i in range(len(label_f_tru)):\n",
    "        score = hamming_loss(np.array(arr_tru[i]), np.array(arr_pre[i]))\n",
    "        score_list.append(score)\n",
    "\n",
    "    return np.mean(score_list)\n",
    "\n",
    "           "
   ]
  },
  {
   "cell_type": "code",
   "execution_count": 470,
   "metadata": {},
   "outputs": [
    {
     "name": "stdout",
     "output_type": "stream",
     "text": [
      "0.2237535325457493\n"
     ]
    }
   ],
   "source": [
    "hamming_list = []\n",
    "\n",
    "#use random_state parameter of kmeasn to do the 50 times\n",
    "for i in range(1,51,1):\n",
    "    #print(i)\n",
    "    hamming_score = kmeans(i)\n",
    "    hamming_list.append(hamming_score)\n",
    "print(np.mean(hamming_list))"
   ]
  },
  {
   "cell_type": "code",
   "execution_count": 471,
   "metadata": {},
   "outputs": [
    {
     "name": "stdout",
     "output_type": "stream",
     "text": [
      "0.010335099703838932\n"
     ]
    }
   ],
   "source": [
    "print(np.std(hamming_list))"
   ]
  },
  {
   "cell_type": "markdown",
   "metadata": {},
   "source": [
    "From the result , we can get that the mean of 50 times hamming loss is 0.22375, and the standard deviation is 0.0103"
   ]
  },
  {
   "cell_type": "code",
   "execution_count": null,
   "metadata": {},
   "outputs": [],
   "source": []
  }
 ],
 "metadata": {
  "kernelspec": {
   "display_name": "Python 3",
   "language": "python",
   "name": "python3"
  },
  "language_info": {
   "codemirror_mode": {
    "name": "ipython",
    "version": 3
   },
   "file_extension": ".py",
   "mimetype": "text/x-python",
   "name": "python",
   "nbconvert_exporter": "python",
   "pygments_lexer": "ipython3",
   "version": "3.7.3"
  }
 },
 "nbformat": 4,
 "nbformat_minor": 2
}
